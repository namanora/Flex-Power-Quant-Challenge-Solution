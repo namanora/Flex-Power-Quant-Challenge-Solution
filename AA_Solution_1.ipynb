{
 "cells": [
  {
   "cell_type": "markdown",
   "id": "0dc6ddd0",
   "metadata": {},
   "source": [
    "# FlexPower Quant Challenge - Task 1"
   ]
  },
  {
   "cell_type": "code",
   "execution_count": 1,
   "id": "610b153b",
   "metadata": {},
   "outputs": [],
   "source": [
    "import sqlite3"
   ]
  },
  {
   "cell_type": "markdown",
   "id": "10d115d9",
   "metadata": {},
   "source": [
    "## Task 1.1"
   ]
  },
  {
   "cell_type": "markdown",
   "id": "596ace12",
   "metadata": {},
   "source": [
    "### Define total volume functions"
   ]
  },
  {
   "cell_type": "code",
   "execution_count": null,
   "id": "39624d25",
   "metadata": {},
   "outputs": [],
   "source": [
    "def compute_total_volume(side: str) -> float:\n",
    "    \"\"\"\n",
    "    Compute total traded volume for a given side.\n",
    "\n",
    "    Input:\n",
    "      side: \"buy\" or \"sell\" to specify which side of the orderbook to sum.\n",
    "    Algorithm:\n",
    "      1) Issue a single SQL query to sum the `quantity` column for rows matching `side`.\n",
    "      2) Use COALESCE to return 0 if there are no matching rows.\n",
    "      3) Fetch the result and coerce it to float.\n",
    "    Returns:\n",
    "      Total volume (in MW) as a float.\n",
    "    \"\"\"\n",
    "    # Define sql query with placeholder for buy/sell\n",
    "    query = (\n",
    "        \"SELECT COALESCE(SUM(quantity), 0) AS total_quantity \"\n",
    "        \"FROM epex_12_20_12_13 \"\n",
    "        \"WHERE side = ?;\"\n",
    "    )\n",
    "    \n",
    "    # Connect with SQL database\n",
    "    with sqlite3.connect(\"trades.sqlite\") as con:\n",
    "        \n",
    "        # Create cursor\n",
    "        cur = con.cursor()\n",
    "        \n",
    "        # Execute query with input buy or sell and collect results\n",
    "        cur.execute(query, (side,))\n",
    "        result = cur.fetchone()\n",
    "        \n",
    "    # Return results as a float or 0 if no orders for buy/sell\n",
    "    return float(result[0] or 0)\n",
    "\n",
    "# Both functions act as wrapper to compute total volume\n",
    "\n",
    "def compute_total_buy_volume() -> float:\n",
    "    \"\"\"\n",
    "    Shortcut for total buy volume.\n",
    "\n",
    "    Returns:\n",
    "      Total buy volume (in MW) across all buy trades.\n",
    "    \"\"\"\n",
    "    return compute_total_volume(\"buy\")\n",
    "\n",
    "def compute_total_sell_volume() -> float:\n",
    "    \"\"\"\n",
    "    Shortcut for total sell volume.\n",
    "\n",
    "    Returns:\n",
    "      Total sell volume (in MW) across all sell trades.\n",
    "    \"\"\"\n",
    "    return compute_total_volume(\"sell\")"
   ]
  },
  {
   "cell_type": "markdown",
   "id": "a1006a76",
   "metadata": {},
   "source": [
    "### Test buy and sell volume"
   ]
  },
  {
   "cell_type": "code",
   "execution_count": 4,
   "id": "a4f0cae6",
   "metadata": {},
   "outputs": [
    {
     "name": "stdout",
     "output_type": "stream",
     "text": [
      "Total buy volume:  28.0\n",
      "Total sell volume: 53.0\n"
     ]
    }
   ],
   "source": [
    "print(f\"Total buy volume:  {compute_total_buy_volume()}\")\n",
    "print(f\"Total sell volume: {compute_total_sell_volume()}\")"
   ]
  },
  {
   "cell_type": "markdown",
   "id": "595df92a",
   "metadata": {},
   "source": [
    "## Task 1.2"
   ]
  },
  {
   "cell_type": "markdown",
   "id": "04e0822f",
   "metadata": {},
   "source": [
    "### Define PnL function "
   ]
  },
  {
   "cell_type": "markdown",
   "id": "81e88eed",
   "metadata": {},
   "source": [
    "All computations are done in SQL directly for better performance and lower memory usage."
   ]
  },
  {
   "cell_type": "code",
   "execution_count": null,
   "id": "0440132b",
   "metadata": {},
   "outputs": [],
   "source": [
    "def compute_pnl(strategy_id: str) -> float:\n",
    "    \"\"\"\n",
    "    Compute total Profit & Loss for a given strategy in one SQL call.\n",
    "\n",
    "    Input:\n",
    "      strategy_id: string identifier of the trading strategy to evaluate.\n",
    "    Algorithm:\n",
    "      1) Use a SQL CASE expression to treat sells as +quantity*price and buys as –quantity*price.\n",
    "      2) SUM over all trades for that strategy and COALESCE to 0 if no trades exist.\n",
    "      3) Execute the query and fetch the single PnL value.\n",
    "    Returns:\n",
    "      Total PnL (in euros) as a float.\n",
    "    \"\"\"\n",
    "    # Define sql query with placeholder for strategy_id\n",
    "    query = (\n",
    "        \"SELECT COALESCE(SUM( \"\n",
    "        \"    CASE \"\n",
    "        \"      WHEN side='sell' THEN quantity * price \"\n",
    "        \"      WHEN side='buy'  THEN -quantity * price \"\n",
    "        \"      ELSE 0 \"\n",
    "        \"    END\"\n",
    "        \"), 0) AS pnl \"\n",
    "        \"FROM epex_12_20_12_13 \"\n",
    "        \"WHERE strategy = ?;\"\n",
    "    )\n",
    "    \n",
    "    # Connect with SQL database\n",
    "    with sqlite3.connect(\"trades.sqlite\") as con:\n",
    "        \n",
    "        # Create cursor\n",
    "        cur = con.cursor()\n",
    "        \n",
    "        # Execute query with input strategy_id and collect results\n",
    "        cur.execute(query, (strategy_id,))\n",
    "        pnl = cur.fetchone()\n",
    "    \n",
    "    # Return results as a float or 0 if no entries for strategy_id\n",
    "    return float(pnl[0] or 0)"
   ]
  },
  {
   "cell_type": "markdown",
   "id": "d6308856",
   "metadata": {},
   "source": [
    "### Test PnL calculations"
   ]
  },
  {
   "cell_type": "code",
   "execution_count": 6,
   "id": "b10338f7",
   "metadata": {},
   "outputs": [
    {
     "name": "stdout",
     "output_type": "stream",
     "text": [
      "PnL strategy_1: -50.0\n",
      "PnL strategy_2: 548.0\n",
      "PnL strategy_3: 0.0\n"
     ]
    }
   ],
   "source": [
    "# Calculate PnL for both strategies (and test non-existing)\n",
    "for i in [1, 2, 3]:\n",
    "    strategy_name = f\"strategy_{i}\"\n",
    "    print(f\"PnL {strategy_name}: {compute_pnl(strategy_name)}\")"
   ]
  },
  {
   "cell_type": "markdown",
   "id": "b2ad4a30",
   "metadata": {},
   "source": [
    "## Task 1.3"
   ]
  },
  {
   "cell_type": "markdown",
   "id": "e1901e9c",
   "metadata": {},
   "source": [
    "Can be found in the app.py"
   ]
  }
 ],
 "metadata": {
  "kernelspec": {
   "display_name": "Python 3",
   "language": "python",
   "name": "python3"
  },
  "language_info": {
   "codemirror_mode": {
    "name": "ipython",
    "version": 3
   },
   "file_extension": ".py",
   "mimetype": "text/x-python",
   "name": "python",
   "nbconvert_exporter": "python",
   "pygments_lexer": "ipython3",
   "version": "3.10.11"
  }
 },
 "nbformat": 4,
 "nbformat_minor": 5
}
